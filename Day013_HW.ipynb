{
 "cells": [
  {
   "cell_type": "markdown",
   "metadata": {},
   "source": [
    "# PTT 網路爬蟲實作練習\n",
    "\n",
    "\n",
    "* 能夠利用 Request + BeatifulSour 撰寫爬蟲，並存放到合適的資料結構\n"
   ]
  },
  {
   "cell_type": "markdown",
   "metadata": {},
   "source": [
    "## 作業目標\n",
    "\n",
    "根據範例 ，完成以下問題：\n",
    "\n",
    "* ① 印出最新文章的「作者」「標題」「時間」\n",
    "* ② 印出第一頁所有文章的「作者」「標題」「時間」\n"
   ]
  },
  {
   "cell_type": "markdown",
   "metadata": {},
   "source": [
    "### ① 印出最新文章的「作者」「標題」「時間」"
   ]
  },
  {
   "cell_type": "code",
   "execution_count": 76,
   "metadata": {},
   "outputs": [],
   "source": [
    "# ppt 閒聊版\n",
    "import requests\n",
    "from bs4 import BeautifulSoup\n",
    "url = 'https://www.ptt.cc/bbs/C_Chat/index.html'\n",
    "r = requests.get(url)\n",
    "soup = BeautifulSoup(r.text, \"html5lib\")"
   ]
  },
  {
   "cell_type": "code",
   "execution_count": 85,
   "metadata": {},
   "outputs": [
    {
     "name": "stdout",
     "output_type": "stream",
     "text": [
      "[{'title': '[閒聊] 所以身為台灣人 現在應該拒看HOLO嗎?', 'author': 'Jiajun0724 (薯片忍者)', 'time': 'Wed Sep 30 15:35:43 2020'}, {'title': '[新聞] 美國調查：收入較低玩家傾向買PS5多於XSX', 'author': 'wizardfizban (瘋法師)', 'time': 'Wed Sep 30 15:34:01 2020'}, {'title': '[情報] 少女與戰車最終章第2話 第3週場次', 'author': 'ROMEL (Bin)', 'time': 'Wed Sep 30 15:33:20 2020'}, {'title': 'Re: [情報] 咒術迴戰 官方推特倒數圖', 'author': 'waitan (微糖兒>////<)', 'time': 'Wed Sep 30 15:32:06 2020'}, {'title': 'Re: [Holo] 日本這邊\"台湾\"也變成禁句囉', 'author': 'Kenqr (function(){})()', 'time': 'Wed Sep 30 15:26:45 2020'}, {'title': '[閒聊] 合眾聯盟的冠軍是不是被歧視', 'author': 'gino861027 (87QB)', 'time': 'Wed Sep 30 15:23:38 2020'}, {'title': '[Holo]  YAGOO出聲了', 'author': 'V9333113 (百分之一百)', 'time': 'Wed Sep 30 15:20:36 2020'}, {'title': '[齁文] 油炸YAGOO', 'author': 'TPAsavelove (安大愛)', 'time': 'Wed Sep 30 15:18:53 2020'}, {'title': 'Re: [20秋] Assault Lily ─還沒開播就香到快死掉', 'author': 'ArthurJack (Weston)', 'time': 'Wed Sep 30 15:18:42 2020'}, {'title': '[閒聊] 有讓人明白的vtuber嗎？', 'author': 'cycy771489 (曾經的信徒)', 'time': 'Wed Sep 30 15:18:33 2020'}, {'title': '[閒聊] 殺生丸算是683t人渣賤狗嗎？', 'author': 'a125g (醬油膏)', 'time': 'Wed Sep 30 15:18:16 2020'}, {'title': '[龍珠] 七龍珠現在才連載 跳跳會跪下去嗎？', 'author': 'callhek (沒錢住帝寶)', 'time': 'Wed Sep 30 15:18:14 2020'}, {'title': 'Re: [閒聊] 森林深處的精靈修女', 'author': 'LABOYS (洛城浪子)', 'time': 'Wed Sep 30 15:17:10 2020'}, {'title': '[公告] holo文創意改編大賽 ', 'author': 'jschenlemn (sinra)', 'time': 'Tue Sep 29 20:31:15 2020'}, {'title': '[公告] C_Chat板板規v.16.3.0+板務建議+好文補M ', 'author': 'jschenlemn (sinra)', 'time': 'Sat Sep 14 01:23:34 2019'}, {'title': '[20秋] 秋番各作品首播時間', 'author': 'SaberTheBest (Saber最高!)', 'time': 'Mon Sep 14 23:27:31 2020'}, {'title': '[公告] 看板活動& 臨時板規與公告彙整& 閒聊區 ', 'author': 'jschenlemn (sinra)', 'time': 'Mon Dec 16 10:22:11 2019'}]\n"
     ]
    }
   ],
   "source": [
    "#最新一筆要進入到內頁才有時間的資訊可以比\n",
    "posts=[]\n",
    "for d in soup.find_all(class_=\"title\"):\n",
    "    \n",
    "    try:\n",
    "        post={}\n",
    "        post['title'] = d.text.replace('\\t', '').replace('\\n', '')\n",
    "        r = BeautifulSoup(requests.get('https://www.ptt.cc'+d.find('a')['href']).text, \"html5lib\")\n",
    "        post['author'] = r.find(class_='article-meta-value').text\n",
    "        post['time'] = r.find_all(class_='article-meta-value')[-1].text\n",
    "        posts.append(post)\n",
    "    except:\n",
    "        continue\n",
    "        \n",
    "# newlist = sorted(list_to_be_sorted, key=lambda x: x['sorted_ by _what']) \n",
    "ans = sorted(posts, key= lambda x: x['time'], reverse=True)\n",
    "print(ans)"
   ]
  },
  {
   "cell_type": "markdown",
   "metadata": {},
   "source": [
    "### ② 印出第一頁所有文章的「作者」「標題」「時間」"
   ]
  },
  {
   "cell_type": "code",
   "execution_count": 78,
   "metadata": {},
   "outputs": [
    {
     "name": "stdout",
     "output_type": "stream",
     "text": [
      "標題：  Re: [閒聊] 森林深處的精靈修女\n",
      "作者： LABOYS (洛城浪子)\n",
      "時間： Wed Sep 30 15:17:10 2020\n",
      "標題：  [龍珠] 七龍珠現在才連載 跳跳會跪下去嗎？\n",
      "作者： callhek (沒錢住帝寶)\n",
      "時間： Wed Sep 30 15:18:14 2020\n",
      "標題：  [閒聊] 殺生丸算是683t人渣賤狗嗎？\n",
      "作者： a125g (醬油膏)\n",
      "時間： Wed Sep 30 15:18:16 2020\n",
      "標題：  [閒聊] 有讓人明白的vtuber嗎？\n",
      "作者： cycy771489 (曾經的信徒)\n",
      "時間： Wed Sep 30 15:18:33 2020\n",
      "標題：  Re: [20秋] Assault Lily ─還沒開播就香到快死掉\n",
      "作者： ArthurJack (Weston)\n",
      "時間： Wed Sep 30 15:18:42 2020\n",
      "標題：  [齁文] 油炸YAGOO\n",
      "作者： TPAsavelove (安大愛)\n",
      "時間： Wed Sep 30 15:18:53 2020\n",
      "標題：  [Holo]  YAGOO出聲了\n",
      "作者： V9333113 (百分之一百)\n",
      "時間： Wed Sep 30 15:20:36 2020\n",
      "標題：  [閒聊] 合眾聯盟的冠軍是不是被歧視\n",
      "作者： gino861027 (87QB)\n",
      "時間： Wed Sep 30 15:23:38 2020\n",
      "標題：  Re: [Holo] 日本這邊\"台湾\"也變成禁句囉\n",
      "作者： Kenqr (function(){})()\n",
      "時間： Wed Sep 30 15:26:45 2020\n",
      "標題：  Re: [情報] 咒術迴戰 官方推特倒數圖\n",
      "作者： waitan (微糖兒>////<)\n",
      "時間： Wed Sep 30 15:32:06 2020\n",
      "標題：  [情報] 少女與戰車最終章第2話 第3週場次\n",
      "作者： ROMEL (Bin)\n",
      "時間： Wed Sep 30 15:33:20 2020\n",
      "標題：  [新聞] 美國調查：收入較低玩家傾向買PS5多於XSX\n",
      "作者： wizardfizban (瘋法師)\n",
      "時間： Wed Sep 30 15:34:01 2020\n",
      "標題：  [閒聊] 所以身為台灣人 現在應該拒看HOLO嗎?\n",
      "作者： Jiajun0724 (薯片忍者)\n",
      "時間： Wed Sep 30 15:35:43 2020\n",
      "標題：  [公告] C_Chat板板規v.16.3.0+板務建議+好文補M \n",
      "作者： jschenlemn (sinra)\n",
      "時間： Sat Sep 14 01:23:34 2019\n",
      "標題：  [公告] 看板活動& 臨時板規與公告彙整& 閒聊區 \n",
      "作者： jschenlemn (sinra)\n",
      "時間： Mon Dec 16 10:22:11 2019\n",
      "標題：  [20秋] 秋番各作品首播時間\n",
      "作者： SaberTheBest (Saber最高!)\n",
      "時間： Mon Sep 14 23:27:31 2020\n",
      "標題：  [公告] holo文創意改編大賽 \n",
      "作者： jschenlemn (sinra)\n",
      "時間： Tue Sep 29 20:31:15 2020\n"
     ]
    }
   ],
   "source": [
    "for d in soup.find_all(class_=\"title\"):\n",
    "    try:\n",
    "        print('標題： ', d.text.replace('\\t', '').replace('\\n', ''))\n",
    "        \n",
    "        # 進入內頁抓\n",
    "        r = BeautifulSoup(requests.get('https://www.ptt.cc'+d.find('a')['href']).text, \"html5lib\")\n",
    "        \n",
    "        print('作者： ' + r.find(class_='article-meta-value').text)\n",
    "        print('時間： ' + r.find_all(class_='article-meta-value')[-1].text)\n",
    "        \n",
    "    except:\n",
    "        continue"
   ]
  },
  {
   "cell_type": "markdown",
   "metadata": {},
   "source": [
    "### ③ 試著爬爬看其他版的文章"
   ]
  },
  {
   "cell_type": "code",
   "execution_count": 95,
   "metadata": {},
   "outputs": [],
   "source": [
    "url ='https://www.ptt.cc/bbs/AnimalForest/index.html'\n",
    "r_ = requests.get(url)\n",
    "soup_ = BeautifulSoup(r_.text, \"html5lib\")"
   ]
  },
  {
   "cell_type": "code",
   "execution_count": 107,
   "metadata": {},
   "outputs": [
    {
     "name": "stdout",
     "output_type": "stream",
     "text": [
      "標題：  Re: [創作] 動森裡的小確幸 我的sousou服飾店\n",
      "作者：  keroroo\n",
      "時間：   9/26\n",
      "標題：  [群組] 貓奴森友會 徵慢活島主（滿額\n",
      "作者：  t002700\n",
      "時間：   9/26\n",
      "標題：  日版Amiibo交換\n",
      "作者：  esme111\n",
      "時間：   9/26\n",
      "標題：  [閒聊] 正版 日版amiibo交換\n",
      "作者：  mioio\n",
      "時間：   9/26\n",
      "標題：  [問題] 菜價高的原因?\n",
      "作者：  VB6\n",
      "時間：   9/26\n",
      "標題：  [閒聊] 章丸丸想換特色屋\n",
      "作者：  chiu50501\n",
      "時間：   9/27\n",
      "標題：  (本文已被刪除) [abccat0520]\n",
      "作者：  -\n",
      "時間：   9/27\n",
      "標題：  (已被g30f68刪除) <bakkwer>廢文\n",
      "作者：  -\n",
      "時間：   9/27\n",
      "標題：  [閒聊] 徵求夢境找靈感\n",
      "作者：  saywhen\n",
      "時間：   9/28\n",
      "標題：  無法正確取得會員\n",
      "作者：  dorodorodoro\n",
      "時間：   9/30\n",
      "標題：  [情報] 動森1.5.0解析\n",
      "作者：  biglp5566\n",
      "時間：   9/30\n",
      "標題：  [公告] 交換分享區 (交換/摸摸/交易/amiibo)\n",
      "作者：  g30f68\n",
      "時間：   4/19\n",
      "標題：  [公告] 動物收容所\n",
      "作者：  g30f68\n",
      "時間：   4/19\n",
      "標題：  [公告] 大頭菜批發市場\n",
      "作者：  g30f68\n",
      "時間：   4/19\n",
      "標題：  [公告] AnimalForest板規 2020.07.03\n",
      "作者：  g30f68\n",
      "時間：   4/21\n",
      "標題：  [公告] 夢見島分享串\n",
      "作者：  g30f68\n",
      "時間：   7/31\n"
     ]
    }
   ],
   "source": [
    "for d in soup_.find_all(class_=\"r-ent\"):\n",
    "    print('標題： ', d.find(class_='title').text.replace('\\t', '').replace('\\n', ''))\n",
    "    print('作者： ', d.find(class_='author').text)\n",
    "    print('時間： ', d.find(class_='date').text)"
   ]
  },
  {
   "cell_type": "code",
   "execution_count": null,
   "metadata": {},
   "outputs": [],
   "source": []
  }
 ],
 "metadata": {
  "kernelspec": {
   "display_name": "Python 3",
   "language": "python",
   "name": "python3"
  },
  "language_info": {
   "codemirror_mode": {
    "name": "ipython",
    "version": 3
   },
   "file_extension": ".py",
   "mimetype": "text/x-python",
   "name": "python",
   "nbconvert_exporter": "python",
   "pygments_lexer": "ipython3",
   "version": "3.6.8"
  }
 },
 "nbformat": 4,
 "nbformat_minor": 2
}
